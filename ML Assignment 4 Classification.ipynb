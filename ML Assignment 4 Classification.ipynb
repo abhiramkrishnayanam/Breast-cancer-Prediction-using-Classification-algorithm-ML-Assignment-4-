{
 "cells": [
  {
   "cell_type": "markdown",
   "id": "d7a473bb-8ead-42f8-85af-b9bb11456dda",
   "metadata": {},
   "source": [
    "<h1 style=\"color: blue; text-align: center; font-size: 25px;\"><b>MACHINE LEARNING ASSIGNMENT 4</b></h1>\n",
    "<h2 style=\"color: blue; text-align: center; font-size: 25px;\"><b>Classification: Breast Cancer Detection</b></h2>"
   ]
  },
  {
   "cell_type": "markdown",
   "id": "69c10007-f341-4f4a-a650-461a0fb99187",
   "metadata": {},
   "source": [
    "### <font color=blue>Objective"
   ]
  },
  {
   "cell_type": "markdown",
   "id": "31c06b48-3ec2-4c89-916c-48df52e25438",
   "metadata": {},
   "source": [
    "The objective of this assessment is to evaluate your understanding and ability to apply supervised learning techniques to a real-world dataset.\n",
    "\n",
    "In this project, we aim to analyze the severity of breast cancer by building a classification model that can distinguish between benign and malignant tumors. Using the widely recognized Wisconsin Breast Cancer Dataset, we will explore the features of cell nuclei (such as radius, texture, and smoothness) to identify patterns that indicate tumor malignancy. Through careful preprocessing, feature scaling, and model evaluation, we will leverage machine learning techniques to develop a robust and accurate classification model. This approach not only enhances our understanding of predictive analytics but also demonstrates the potential of data science in addressing critical healthcare challenges.\n",
    "\n"
   ]
  },
  {
   "cell_type": "markdown",
   "id": "31b57b0a-c146-4c4d-8291-9adfb3d3741e",
   "metadata": {},
   "source": [
    "### <font color=blue> Dataset:</font>\n",
    "Use the breast cancer dataset available in the sklearn library.\n"
   ]
  },
  {
   "cell_type": "code",
   "execution_count": 18,
   "id": "c23d5594-ca54-49d8-9efe-dd254da0bd8f",
   "metadata": {},
   "outputs": [],
   "source": [
    "import pandas as pd\n",
    "import numpy as np\n",
    "import matplotlib.pyplot as plt\n",
    "import seaborn as sns\n",
    "import warnings\n",
    "warnings.simplefilter(\"ignore\")"
   ]
  },
  {
   "cell_type": "markdown",
   "id": "8dc0d338-6d40-44da-9ad7-277a7aeab524",
   "metadata": {},
   "source": [
    "### <font color=blue> 1. Loading and Preprocessing "
   ]
  },
  {
   "cell_type": "markdown",
   "id": "515a6674-5d66-4a70-9f59-f9410c601f67",
   "metadata": {},
   "source": [
    "* Load the breast cancer dataset from sklearn.\n",
    "* Preprocess the data to handle any missing values and perform necessary feature scaling.\n",
    "* Explain the preprocessing steps you performed and justify why they are necessary for this dataset.\n"
   ]
  },
  {
   "cell_type": "code",
   "execution_count": 12,
   "id": "640ab306-7c80-4556-8d5e-f572f0697efe",
   "metadata": {},
   "outputs": [],
   "source": [
    "from sklearn.datasets import load_breast_cancer\n",
    "data = load_breast_cancer()\n",
    "X = data.data\n",
    "y = data.target"
   ]
  },
  {
   "cell_type": "code",
   "execution_count": 22,
   "id": "bf6987eb-e1e1-4c42-9fdd-ae237dc26f0f",
   "metadata": {},
   "outputs": [],
   "source": [
    "# Create a DataFrame\n",
    "df = pd.DataFrame(data.data, columns=data.feature_names)\n",
    "df['target'] = data.target"
   ]
  },
  {
   "cell_type": "code",
   "execution_count": 26,
   "id": "02cedbec-aaa7-48db-b2ac-9ff88ee62fe8",
   "metadata": {},
   "outputs": [
    {
     "data": {
      "text/html": [
       "<div>\n",
       "<style scoped>\n",
       "    .dataframe tbody tr th:only-of-type {\n",
       "        vertical-align: middle;\n",
       "    }\n",
       "\n",
       "    .dataframe tbody tr th {\n",
       "        vertical-align: top;\n",
       "    }\n",
       "\n",
       "    .dataframe thead th {\n",
       "        text-align: right;\n",
       "    }\n",
       "</style>\n",
       "<table border=\"1\" class=\"dataframe\">\n",
       "  <thead>\n",
       "    <tr style=\"text-align: right;\">\n",
       "      <th></th>\n",
       "      <th>mean radius</th>\n",
       "      <th>mean texture</th>\n",
       "      <th>mean perimeter</th>\n",
       "      <th>mean area</th>\n",
       "      <th>mean smoothness</th>\n",
       "      <th>mean compactness</th>\n",
       "      <th>mean concavity</th>\n",
       "      <th>mean concave points</th>\n",
       "      <th>mean symmetry</th>\n",
       "      <th>mean fractal dimension</th>\n",
       "      <th>...</th>\n",
       "      <th>worst texture</th>\n",
       "      <th>worst perimeter</th>\n",
       "      <th>worst area</th>\n",
       "      <th>worst smoothness</th>\n",
       "      <th>worst compactness</th>\n",
       "      <th>worst concavity</th>\n",
       "      <th>worst concave points</th>\n",
       "      <th>worst symmetry</th>\n",
       "      <th>worst fractal dimension</th>\n",
       "      <th>target</th>\n",
       "    </tr>\n",
       "  </thead>\n",
       "  <tbody>\n",
       "    <tr>\n",
       "      <th>0</th>\n",
       "      <td>17.99</td>\n",
       "      <td>10.38</td>\n",
       "      <td>122.80</td>\n",
       "      <td>1001.0</td>\n",
       "      <td>0.11840</td>\n",
       "      <td>0.27760</td>\n",
       "      <td>0.3001</td>\n",
       "      <td>0.14710</td>\n",
       "      <td>0.2419</td>\n",
       "      <td>0.07871</td>\n",
       "      <td>...</td>\n",
       "      <td>17.33</td>\n",
       "      <td>184.60</td>\n",
       "      <td>2019.0</td>\n",
       "      <td>0.1622</td>\n",
       "      <td>0.6656</td>\n",
       "      <td>0.7119</td>\n",
       "      <td>0.2654</td>\n",
       "      <td>0.4601</td>\n",
       "      <td>0.11890</td>\n",
       "      <td>0</td>\n",
       "    </tr>\n",
       "    <tr>\n",
       "      <th>1</th>\n",
       "      <td>20.57</td>\n",
       "      <td>17.77</td>\n",
       "      <td>132.90</td>\n",
       "      <td>1326.0</td>\n",
       "      <td>0.08474</td>\n",
       "      <td>0.07864</td>\n",
       "      <td>0.0869</td>\n",
       "      <td>0.07017</td>\n",
       "      <td>0.1812</td>\n",
       "      <td>0.05667</td>\n",
       "      <td>...</td>\n",
       "      <td>23.41</td>\n",
       "      <td>158.80</td>\n",
       "      <td>1956.0</td>\n",
       "      <td>0.1238</td>\n",
       "      <td>0.1866</td>\n",
       "      <td>0.2416</td>\n",
       "      <td>0.1860</td>\n",
       "      <td>0.2750</td>\n",
       "      <td>0.08902</td>\n",
       "      <td>0</td>\n",
       "    </tr>\n",
       "    <tr>\n",
       "      <th>2</th>\n",
       "      <td>19.69</td>\n",
       "      <td>21.25</td>\n",
       "      <td>130.00</td>\n",
       "      <td>1203.0</td>\n",
       "      <td>0.10960</td>\n",
       "      <td>0.15990</td>\n",
       "      <td>0.1974</td>\n",
       "      <td>0.12790</td>\n",
       "      <td>0.2069</td>\n",
       "      <td>0.05999</td>\n",
       "      <td>...</td>\n",
       "      <td>25.53</td>\n",
       "      <td>152.50</td>\n",
       "      <td>1709.0</td>\n",
       "      <td>0.1444</td>\n",
       "      <td>0.4245</td>\n",
       "      <td>0.4504</td>\n",
       "      <td>0.2430</td>\n",
       "      <td>0.3613</td>\n",
       "      <td>0.08758</td>\n",
       "      <td>0</td>\n",
       "    </tr>\n",
       "    <tr>\n",
       "      <th>3</th>\n",
       "      <td>11.42</td>\n",
       "      <td>20.38</td>\n",
       "      <td>77.58</td>\n",
       "      <td>386.1</td>\n",
       "      <td>0.14250</td>\n",
       "      <td>0.28390</td>\n",
       "      <td>0.2414</td>\n",
       "      <td>0.10520</td>\n",
       "      <td>0.2597</td>\n",
       "      <td>0.09744</td>\n",
       "      <td>...</td>\n",
       "      <td>26.50</td>\n",
       "      <td>98.87</td>\n",
       "      <td>567.7</td>\n",
       "      <td>0.2098</td>\n",
       "      <td>0.8663</td>\n",
       "      <td>0.6869</td>\n",
       "      <td>0.2575</td>\n",
       "      <td>0.6638</td>\n",
       "      <td>0.17300</td>\n",
       "      <td>0</td>\n",
       "    </tr>\n",
       "    <tr>\n",
       "      <th>4</th>\n",
       "      <td>20.29</td>\n",
       "      <td>14.34</td>\n",
       "      <td>135.10</td>\n",
       "      <td>1297.0</td>\n",
       "      <td>0.10030</td>\n",
       "      <td>0.13280</td>\n",
       "      <td>0.1980</td>\n",
       "      <td>0.10430</td>\n",
       "      <td>0.1809</td>\n",
       "      <td>0.05883</td>\n",
       "      <td>...</td>\n",
       "      <td>16.67</td>\n",
       "      <td>152.20</td>\n",
       "      <td>1575.0</td>\n",
       "      <td>0.1374</td>\n",
       "      <td>0.2050</td>\n",
       "      <td>0.4000</td>\n",
       "      <td>0.1625</td>\n",
       "      <td>0.2364</td>\n",
       "      <td>0.07678</td>\n",
       "      <td>0</td>\n",
       "    </tr>\n",
       "  </tbody>\n",
       "</table>\n",
       "<p>5 rows × 31 columns</p>\n",
       "</div>"
      ],
      "text/plain": [
       "   mean radius  mean texture  mean perimeter  mean area  mean smoothness  \\\n",
       "0        17.99         10.38          122.80     1001.0          0.11840   \n",
       "1        20.57         17.77          132.90     1326.0          0.08474   \n",
       "2        19.69         21.25          130.00     1203.0          0.10960   \n",
       "3        11.42         20.38           77.58      386.1          0.14250   \n",
       "4        20.29         14.34          135.10     1297.0          0.10030   \n",
       "\n",
       "   mean compactness  mean concavity  mean concave points  mean symmetry  \\\n",
       "0           0.27760          0.3001              0.14710         0.2419   \n",
       "1           0.07864          0.0869              0.07017         0.1812   \n",
       "2           0.15990          0.1974              0.12790         0.2069   \n",
       "3           0.28390          0.2414              0.10520         0.2597   \n",
       "4           0.13280          0.1980              0.10430         0.1809   \n",
       "\n",
       "   mean fractal dimension  ...  worst texture  worst perimeter  worst area  \\\n",
       "0                 0.07871  ...          17.33           184.60      2019.0   \n",
       "1                 0.05667  ...          23.41           158.80      1956.0   \n",
       "2                 0.05999  ...          25.53           152.50      1709.0   \n",
       "3                 0.09744  ...          26.50            98.87       567.7   \n",
       "4                 0.05883  ...          16.67           152.20      1575.0   \n",
       "\n",
       "   worst smoothness  worst compactness  worst concavity  worst concave points  \\\n",
       "0            0.1622             0.6656           0.7119                0.2654   \n",
       "1            0.1238             0.1866           0.2416                0.1860   \n",
       "2            0.1444             0.4245           0.4504                0.2430   \n",
       "3            0.2098             0.8663           0.6869                0.2575   \n",
       "4            0.1374             0.2050           0.4000                0.1625   \n",
       "\n",
       "   worst symmetry  worst fractal dimension  target  \n",
       "0          0.4601                  0.11890       0  \n",
       "1          0.2750                  0.08902       0  \n",
       "2          0.3613                  0.08758       0  \n",
       "3          0.6638                  0.17300       0  \n",
       "4          0.2364                  0.07678       0  \n",
       "\n",
       "[5 rows x 31 columns]"
      ]
     },
     "execution_count": 26,
     "metadata": {},
     "output_type": "execute_result"
    }
   ],
   "source": [
    "# Display the first five rows\n",
    "df.head()"
   ]
  },
  {
   "cell_type": "code",
   "execution_count": 30,
   "id": "1602f5a2-630a-4298-8662-8f1d616067ae",
   "metadata": {},
   "outputs": [
    {
     "data": {
      "text/plain": [
       "(569, 31)"
      ]
     },
     "execution_count": 30,
     "metadata": {},
     "output_type": "execute_result"
    }
   ],
   "source": [
    "df.shape"
   ]
  },
  {
   "cell_type": "code",
   "execution_count": 44,
   "id": "1e479ae1-b0a9-40b6-ad1a-edb685e0f3c5",
   "metadata": {},
   "outputs": [
    {
     "data": {
      "text/plain": [
       "mean radius                0\n",
       "mean texture               0\n",
       "mean perimeter             0\n",
       "mean area                  0\n",
       "mean smoothness            0\n",
       "mean compactness           0\n",
       "mean concavity             0\n",
       "mean concave points        0\n",
       "mean symmetry              0\n",
       "mean fractal dimension     0\n",
       "radius error               0\n",
       "texture error              0\n",
       "perimeter error            0\n",
       "area error                 0\n",
       "smoothness error           0\n",
       "compactness error          0\n",
       "concavity error            0\n",
       "concave points error       0\n",
       "symmetry error             0\n",
       "fractal dimension error    0\n",
       "worst radius               0\n",
       "worst texture              0\n",
       "worst perimeter            0\n",
       "worst area                 0\n",
       "worst smoothness           0\n",
       "worst compactness          0\n",
       "worst concavity            0\n",
       "worst concave points       0\n",
       "worst symmetry             0\n",
       "worst fractal dimension    0\n",
       "target                     0\n",
       "dtype: int64"
      ]
     },
     "execution_count": 44,
     "metadata": {},
     "output_type": "execute_result"
    }
   ],
   "source": [
    "df.isnull().sum()"
   ]
  },
  {
   "cell_type": "markdown",
   "id": "29135ee5-f1e2-407f-982d-fed0d35403f0",
   "metadata": {},
   "source": [
    "<font color=blue>No null values"
   ]
  },
  {
   "cell_type": "code",
   "execution_count": 51,
   "id": "92c11d88-236f-4370-a7c4-8ca91d69f8a7",
   "metadata": {},
   "outputs": [
    {
     "data": {
      "text/plain": [
       "0"
      ]
     },
     "execution_count": 51,
     "metadata": {},
     "output_type": "execute_result"
    }
   ],
   "source": [
    "df.duplicated().sum()"
   ]
  },
  {
   "cell_type": "markdown",
   "id": "147a5ce0-ca9e-4009-b431-49aca1f48b0f",
   "metadata": {},
   "source": [
    "<font color=blue>No duplicates "
   ]
  },
  {
   "cell_type": "markdown",
   "id": "b9eb6641-d268-412a-87d4-3b196502f08c",
   "metadata": {},
   "source": [
    "#### <font color=blue>Normalization/Scaling:"
   ]
  },
  {
   "cell_type": "markdown",
   "id": "8dfe9dd2-625c-407d-8426-b544f1cf1a2d",
   "metadata": {},
   "source": [
    "Standard Scaling is a preprocessing technique that transforms the features of a dataset such that they have a mean of 0 and a standard deviation of 1. It helps normalize the data and is particularly useful when the features have different scales, ensuring that no single feature dominates during modeling."
   ]
  },
  {
   "cell_type": "code",
   "execution_count": 64,
   "id": "f8f87b57-44d3-4301-9791-72dde771457c",
   "metadata": {},
   "outputs": [],
   "source": [
    "from sklearn.preprocessing import StandardScaler\n",
    "from sklearn.model_selection import train_test_split"
   ]
  },
  {
   "cell_type": "code",
   "execution_count": 66,
   "id": "078a52a2-1ee8-4376-b9b8-852f864040b3",
   "metadata": {},
   "outputs": [],
   "source": [
    "# Splitting the data\n",
    "X_train, X_test, y_train, y_test = train_test_split(X, y, test_size=0.2, random_state=42)"
   ]
  },
  {
   "cell_type": "code",
   "execution_count": 58,
   "id": "7b06fc60-fe06-4c0f-aae5-52fa98f4ec63",
   "metadata": {},
   "outputs": [],
   "source": [
    "scaler=StandardScaler()"
   ]
  },
  {
   "cell_type": "code",
   "execution_count": 68,
   "id": "e74c2b9c-374f-4212-9590-84b31a6f98c7",
   "metadata": {},
   "outputs": [],
   "source": [
    "X_train=scaler.fit_transform(X_train)\n",
    "X_test=scaler.transform(X_test)"
   ]
  },
  {
   "cell_type": "markdown",
   "id": "bc682807-8719-421f-8381-d09fbda9e6db",
   "metadata": {},
   "source": [
    "### <font color=blue>2. Classification Algorithm Implementation"
   ]
  },
  {
   "cell_type": "markdown",
   "id": "7c1750e8-a067-45fc-a74f-2463f8c51519",
   "metadata": {
    "jp-MarkdownHeadingCollapsed": true
   },
   "source": [
    "### Logistic Regression :\n",
    "Logistic Regression is a statistical model used for binary classification tasks (e.g., yes/no, true/false, 0/1). It predicts the probability of an observation belonging to a particular class by modeling the relationship between independent variables (features) and the dependent variable (target).\n",
    "\n",
    "Advantages of Logistic Regression:\n",
    "* Simple and Interpretable: Coefficients show feature impact on the target.\n",
    "* Efficient: Fast for small to medium datasets.\n",
    "* Effective for Linearly Separable Data: Performs well when classes are separable.\n",
    "\n",
    "Limitations of Logistic Regression:\n",
    "* Assumes Linearity: Struggles with non-linear relationships.\n",
    "* Outlier Sensitivity: Easily influenced by extreme values.\n",
    "* Binary Classification Focus: Requires extensions for multi-class problems.\n"
   ]
  },
  {
   "cell_type": "markdown",
   "id": "89d8e154-8e21-444e-a62b-3a49ff6c64a1",
   "metadata": {},
   "source": [
    "### Decision Tree Classifier :\n",
    "A Decision Tree Classifier is a supervised machine learning algorithm used for classification tasks. It works by recursively splitting the dataset into subsets based on the value of features, forming a tree-like structure of decisions.\n",
    "\n",
    "Key Concepts: \n",
    "* Root Node: The topmost node that represents the entire dataset.\n",
    "* Internal Nodes: Points where the data is split based on a feature's value.\n",
    "* Leaf Nodes: Terminal nodes that represent the final class label.\n",
    "\n",
    "Advantages of Decision Tree Classifier:\n",
    "* Interpretability: Easy to understand and visualize, even for non-technical stakeholders.\n",
    "* No Data Preprocessing Required: Handles both numerical and categorical data without needing scaling or normalization.\n",
    "* Feature Selection: Automatically identifies the most important features during the splitting process.\n",
    "\n",
    "Limitations of Decision Tree Classifier:\n",
    "* Overfitting: Prone to overfitting, especially with noisy data or when the tree is too deep.\n",
    "* Instability: Small changes in data can lead to significantly different tree structures (high variance).\n",
    "* Bias Towards Dominant Classes: Can be biased if one class dominates in the dataset without proper balancing techniques."
   ]
  },
  {
   "cell_type": "markdown",
   "id": "07cee8bb-eb22-4ea2-80f1-0fe5f70c5646",
   "metadata": {},
   "source": [
    "### Random Forest Classifier: \n",
    "A Random Forest Classifier is an ensemble learning method that combines multiple decision trees to improve the accuracy and stability of the model. It works by building a large number of decision trees and aggregating their predictions to make a final decision.\n",
    "\n",
    "Advantages of RandomForestClassifier:\n",
    "* High Accuracy: By combining multiple decision trees, it improves prediction accuracy and generalizes better than a single decision tree.\n",
    "* Robust to Overfitting: Due to the ensemble nature and averaging of predictions, it is less likely to overfit, especially with large datasets.\n",
    "* Handles Missing Data: It can handle missing values by using surrogate splits and can manage both categorical and numerical data.\n",
    "\n",
    "Limitations of RandomForestClassifier:\n",
    "* Complexity: Random forests are computationally expensive and can be slow to train, especially with large datasets.\n",
    "* Model Interpretability: As an ensemble of trees, it is harder to interpret than a single decision tree.\n",
    "* Memory Usage: It requires a large amount of memory due to the storage of multiple trees and their components."
   ]
  },
  {
   "cell_type": "markdown",
   "id": "16d15fba-c86c-4775-b6be-eb4caf9a8bad",
   "metadata": {},
   "source": [
    "### Support Vector Machine (SVM) :\n",
    "Support Vector Machine (SVM) is a supervised machine learning algorithm used for classification (and sometimes regression) tasks. It aims to find the optimal hyperplane that separates data points of different classes with the maximum margin.\n",
    "\n",
    "Advantages of SVM:\n",
    "* Effective in High Dimensional Spaces: SVM performs exceptionally well in high-dimensional feature spaces, making it ideal for complex data like text or image classification.\n",
    "* Robust to Overfitting: By maximizing the margin between classes, SVM reduces the risk of overfitting, especially in high-dimensional data.\n",
    "* Optimal Hyperplane: SVM guarantees finding the optimal decision boundary (hyperplane) that maximizes the margin, ensuring the best separation between classes.\n",
    "\n",
    "Limitations of SVM:\n",
    "* Memory Intensive: SVM can be computationally expensive, especially with large datasets, as it requires storing the entire dataset in memory.\n",
    "* Sensitive to Noise: SVM is sensitive to noisy data and outliers, which can distort the optimal hyperplane and lead to poor performance.\n",
    "* Not Suitable for Large Datasets: Training time grows significantly with larger datasets, making SVM inefficient for scaling to big data."
   ]
  },
  {
   "cell_type": "markdown",
   "id": "03ff167d-e5e3-4e27-b657-465070a503df",
   "metadata": {},
   "source": [
    "### The K-Nearest Neighbors (KNN): \n",
    "The K-Nearest Neighbors (KNN) classifier is a non-parametric and instance-based machine learning algorithm used for classification tasks. It predicts the class of a data point based on the majority class of its k nearest neighbors in the feature space.\n",
    "\n",
    "Advantages :\n",
    "* Simple to understand and implement.\n",
    "* No training phase (instance-based learning).\n",
    "* Works well with smaller datasets.\n",
    "\n",
    "Limitations :\n",
    "* Computationally expensive during inference (as all data points are used for prediction).\n",
    "* Sensitive to irrelevant features and noisy data.\n",
    "* Struggles with high-dimensional spaces (curse of dimensionality)."
   ]
  },
  {
   "cell_type": "code",
   "execution_count": 71,
   "id": "e29bfc64-7644-4038-979b-d6ca48e3bbba",
   "metadata": {},
   "outputs": [],
   "source": [
    "from sklearn.linear_model import LogisticRegression\n",
    "from sklearn.tree import DecisionTreeClassifier\n",
    "from sklearn.ensemble import RandomForestClassifier\n",
    "from sklearn.svm import SVC\n",
    "from sklearn.neighbors import KNeighborsClassifier\n",
    "from sklearn.metrics import classification_report\n"
   ]
  },
  {
   "cell_type": "code",
   "execution_count": 79,
   "id": "43bbf5ce-c38c-4a1e-9668-d3ce27faa149",
   "metadata": {},
   "outputs": [
    {
     "name": "stdout",
     "output_type": "stream",
     "text": [
      "Training and evaluating: Logistic_Regression\n",
      "Logistic_Regression Classification Report:\n",
      "\n",
      "              precision    recall  f1-score   support\n",
      "\n",
      "           0       0.98      0.95      0.96        43\n",
      "           1       0.97      0.99      0.98        71\n",
      "\n",
      "    accuracy                           0.97       114\n",
      "   macro avg       0.97      0.97      0.97       114\n",
      "weighted avg       0.97      0.97      0.97       114\n",
      "\n",
      "------------------------------------------------------------\n",
      "Training and evaluating: Decision Tree Classifier\n",
      "Decision Tree Classifier Classification Report:\n",
      "\n",
      "              precision    recall  f1-score   support\n",
      "\n",
      "           0       0.93      0.93      0.93        43\n",
      "           1       0.96      0.96      0.96        71\n",
      "\n",
      "    accuracy                           0.95       114\n",
      "   macro avg       0.94      0.94      0.94       114\n",
      "weighted avg       0.95      0.95      0.95       114\n",
      "\n",
      "------------------------------------------------------------\n",
      "Training and evaluating: Random Forest Classifier\n",
      "Random Forest Classifier Classification Report:\n",
      "\n",
      "              precision    recall  f1-score   support\n",
      "\n",
      "           0       0.98      0.93      0.95        43\n",
      "           1       0.96      0.99      0.97        71\n",
      "\n",
      "    accuracy                           0.96       114\n",
      "   macro avg       0.97      0.96      0.96       114\n",
      "weighted avg       0.97      0.96      0.96       114\n",
      "\n",
      "------------------------------------------------------------\n",
      "Training and evaluating: Support Vector Machine\n",
      "Support Vector Machine Classification Report:\n",
      "\n",
      "              precision    recall  f1-score   support\n",
      "\n",
      "           0       1.00      0.95      0.98        43\n",
      "           1       0.97      1.00      0.99        71\n",
      "\n",
      "    accuracy                           0.98       114\n",
      "   macro avg       0.99      0.98      0.98       114\n",
      "weighted avg       0.98      0.98      0.98       114\n",
      "\n",
      "------------------------------------------------------------\n",
      "Training and evaluating: k-Nearest Neighbors\n",
      "k-Nearest Neighbors Classification Report:\n",
      "\n",
      "              precision    recall  f1-score   support\n",
      "\n",
      "           0       0.93      0.93      0.93        43\n",
      "           1       0.96      0.96      0.96        71\n",
      "\n",
      "    accuracy                           0.95       114\n",
      "   macro avg       0.94      0.94      0.94       114\n",
      "weighted avg       0.95      0.95      0.95       114\n",
      "\n",
      "------------------------------------------------------------\n"
     ]
    }
   ],
   "source": [
    "models={\n",
    "   \"Logistic_Regression\":LogisticRegression(random_state=42,max_iter=1000),\n",
    "   \"Decision Tree Classifier\":DecisionTreeClassifier(random_state=42),\n",
    "   \"Random Forest Classifier\":RandomForestClassifier(random_state=42,n_estimators=100),\n",
    "   \"Support Vector Machine\": SVC(probability=True, random_state=42),\n",
    "   \"k-Nearest Neighbors\": KNeighborsClassifier(n_neighbors=5)\n",
    "}\n",
    "#iterate over madels\n",
    "for name,model in models.items():\n",
    "    print(f\"Training and evaluating: {name}\")\n",
    "    model.fit(X_train,y_train)\n",
    "    y_pred=model.predict(X_test)\n",
    " # Evaluate the model\n",
    "    print(f\"{name} Classification Report:\\n\")\n",
    "    print(classification_report(y_test, y_pred))\n",
    "    print(\"-\" * 60)\n"
   ]
  },
  {
   "cell_type": "markdown",
   "id": "d2e31db1-be3a-4444-9e03-530cb8593e93",
   "metadata": {},
   "source": [
    "### <font color=blue>3. Model Comparison"
   ]
  },
  {
   "cell_type": "markdown",
   "id": "410f01bd-a2e3-4b99-844a-b07d794417fa",
   "metadata": {},
   "source": [
    "* Compare the performance of the five classification algorithms.\n",
    "* Which algorithm performed the best and which one performed the worst?\n"
   ]
  },
  {
   "cell_type": "markdown",
   "id": "66eea156-75d7-468b-b0a0-8bf3f1625a90",
   "metadata": {},
   "source": [
    "#### Identify the Best and Worst Performing Algorithms"
   ]
  },
  {
   "cell_type": "code",
   "execution_count": 85,
   "id": "a1501db6-7925-4b7c-a435-846f982fbd4f",
   "metadata": {},
   "outputs": [
    {
     "name": "stdout",
     "output_type": "stream",
     "text": [
      "                          Accuracy  Precision    Recall  F1-Score\n",
      "Logistic_Regression       0.973684   0.972222  0.985915  0.979021\n",
      "Decision Tree Classifier  0.947368   0.957746  0.957746  0.957746\n",
      "Random Forest Classifier  0.964912   0.958904  0.985915  0.972222\n",
      "Support Vector Machine    0.982456   0.972603  1.000000  0.986111\n",
      "k-Nearest Neighbors       0.947368   0.957746  0.957746  0.957746\n"
     ]
    }
   ],
   "source": [
    "from sklearn.metrics import accuracy_score,precision_score,recall_score,f1_score\n",
    "#Dictionary to store performance metrics:\n",
    "performance = {}\n",
    "\n",
    "# Iterate over models\n",
    "for name, model in models.items():\n",
    "    # Train the model\n",
    "    model.fit(X_train, y_train)\n",
    "    \n",
    "    # Predict on the test set\n",
    "    y_pred = model.predict(X_test)\n",
    "    \n",
    "    # Store metrics\n",
    "    performance[name] = {\n",
    "        \"Accuracy\": accuracy_score(y_test, y_pred),\n",
    "        \"Precision\": precision_score(y_test, y_pred),\n",
    "        \"Recall\": recall_score(y_test, y_pred),\n",
    "        \"F1-Score\": f1_score(y_test, y_pred)\n",
    "    }\n",
    "\n",
    "# Convert the performance dictionary to a DataFrame for easy comparison\n",
    "import pandas as pd\n",
    "performance_df = pd.DataFrame(performance).T\n",
    "print(performance_df)"
   ]
  },
  {
   "cell_type": "markdown",
   "id": "df97c6cd-03e3-498d-9c7c-a8b0ddec37de",
   "metadata": {},
   "source": [
    "### Conclusion:\n",
    "**Best Model:** Support Vector Machine (SVM)<br>\n",
    "\n",
    "* It outperforms others across most metrics, including accuracy, recall, and F1-Score.\n",
    "* Its perfect recall makes it especially suitable for scenarios where missing positive cases (false negatives) could be critical, like in breast cancer detection.<br>\n",
    "\n",
    "**Worst Model:** Decision Tree and k-Nearest Neighbors<br>\n",
    "\n",
    "Both have the lowest accuracy (0.947368) and F1-Score (0.957746), making them less suitable compared to other models."
   ]
  },
  {
   "cell_type": "code",
   "execution_count": 94,
   "id": "250af283-c4b5-4f63-8758-2fef60c946d1",
   "metadata": {},
   "outputs": [
    {
     "data": {
      "image/png": "[encoded data removed]",
      "text/plain": [
       "<Figure size 1000x800 with 1 Axes>"
      ]
     },
     "metadata": {},
     "output_type": "display_data"
    }
   ],
   "source": [
    "from sklearn.metrics import roc_curve, auc\n",
    "import matplotlib.pyplot as plt\n",
    "\n",
    "# Initialize a plot\n",
    "plt.figure(figsize=(10, 8))\n",
    "\n",
    "# Iterate over models\n",
    "for name, model in models.items():\n",
    "    # Predict probabilities for ROC\n",
    "    if hasattr(model, \"predict_proba\"):  # Models like Logistic Regression, Random Forest\n",
    "        y_probs = model.predict_proba(X_test)[:, 1]\n",
    "    else:  # For models like SVM, use decision_function\n",
    "        y_probs = model.decision_function(X_test)\n",
    "    \n",
    "    # Compute ROC curve\n",
    "    fpr, tpr, _ = roc_curve(y_test, y_probs)\n",
    "    roc_auc = auc(fpr, tpr)\n",
    "    \n",
    "    # Plot the ROC curve\n",
    "    plt.plot(fpr, tpr, label=f\"{name} (AUC = {roc_auc:.2f})\")\n",
    "\n",
    "# Plot formatting\n",
    "plt.plot([0, 1], [0, 1], \"k--\", label=\"Chance Level\")\n",
    "plt.xlabel(\"False Positive Rate\")\n",
    "plt.ylabel(\"True Positive Rate\")\n",
    "plt.title(\"ROC Curve Comparison\")\n",
    "plt.legend(loc=\"lower right\")\n",
    "plt.grid()\n",
    "plt.show()\n"
   ]
  },
  {
   "cell_type": "code",
   "execution_count": 101,
   "id": "23fd768a-6413-4440-8e3a-3a7d3938125b",
   "metadata": {},
   "outputs": [
    {
     "name": "stdout",
     "output_type": "stream",
     "text": [
      "  Actual Predicted\n",
      "0    Yes       Yes\n",
      "1     No        No\n",
      "2     No        No\n",
      "3    Yes       Yes\n",
      "4    Yes       Yes\n"
     ]
    }
   ],
   "source": [
    "# Get predictions from the best model (e.g., from Grid Search or a chosen model)\n",
    "model=SVC(probability=True, random_state=42)\n",
    "model.fit(X_train,y_train)\n",
    "y_pred=model.predict(X_test)\n",
    "\n",
    "# Map 1 -> \"Yes\" and 0 -> \"No\"\n",
    "mapping = {1: \"Yes\", 0: \"No\"}\n",
    "\n",
    "# Apply the mapping to actual and predicted values\n",
    "comparison = pd.DataFrame({\n",
    "    'Actual': [mapping[val] for val in y_test[:5]],       # Convert y_test values\n",
    "    'Predicted': [mapping[val] for val in y_pred[:5]]    # Convert y_pred values\n",
    "})\n",
    "\n",
    "# Display the comparison\n",
    "print(comparison)"
   ]
  },
  {
   "cell_type": "markdown",
   "id": "ebdf0c4d-5495-48be-9dbb-b9d5814f4625",
   "metadata": {},
   "source": [
    "### Predictions are done using the best model, that is SVM"
   ]
  },
  {
   "cell_type": "code",
   "execution_count": null,
   "id": "a3dcc575-7ec6-401a-b1a0-d0663c64d00e",
   "metadata": {},
   "outputs": [],
   "source": []
  }
 ],
 "metadata": {
  "kernelspec": {
   "display_name": "Python [conda env:base] *",
   "language": "python",
   "name": "conda-base-py"
  },
  "language_info": {
   "codemirror_mode": {
    "name": "ipython",
    "version": 3
   },
   "file_extension": ".py",
   "mimetype": "text/x-python",
   "name": "python",
   "nbconvert_exporter": "python",
   "pygments_lexer": "ipython3",
   "version": "3.12.7"
  }
 },
 "nbformat": 4,
 "nbformat_minor": 5
}
